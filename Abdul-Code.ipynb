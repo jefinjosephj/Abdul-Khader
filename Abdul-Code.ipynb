{
 "cells": [
  {
   "cell_type": "code",
   "execution_count": 6,
   "id": "ce7ef98c",
   "metadata": {},
   "outputs": [
    {
     "name": "stdout",
     "output_type": "stream",
     "text": [
      "Enter the Character or Letter to be Encrypted: security\n",
      "Enter the Key Value: 3\n",
      "The Encrypted Text of Caesar Cipher:  VHFXULWB\n"
     ]
    }
   ],
   "source": [
    "def CaesarEncrypt(plain, key):\n",
    "    ct=\"\"\n",
    "    for i in range(len(plain)):\n",
    "        c=plain[i]\n",
    "        if c==\"\":\n",
    "            ct+=\"\"\n",
    "        elif(c.isupper()):\n",
    "            ct+=chr((ord(c)+key-65)%26+65)\n",
    "        else:\n",
    "            ct+=chr((ord(c)+key-97)%26+65)\n",
    "    return ct\n",
    "pt=input(\"Enter the Character or Letter to be Encrypted: \")\n",
    "k=int(input(\"Enter the Key Value: \"))\n",
    "enc=CaesarEncrypt(pt, k)\n",
    "print(\"The Encrypted Text of Caesar Cipher: \",enc)"
   ]
  },
  {
   "cell_type": "code",
   "execution_count": 8,
   "id": "1b8793a5",
   "metadata": {},
   "outputs": [
    {
     "name": "stdout",
     "output_type": "stream",
     "text": [
      "Enter the Character or Letter to be Encrypted: VHFXULWB\n",
      "Enter the Key Value: 3\n",
      "The Encrypted Text of Caesar Cipher:  SECURITY\n"
     ]
    }
   ],
   "source": [
    "def CaesarDec(cipher, key):\n",
    "    pt=\"\"\n",
    "    for i in range(len(cipher)):\n",
    "        c=cipher[i]\n",
    "        if c==\"\":\n",
    "            pt+=\"\"\n",
    "        elif(c.isupper()):\n",
    "            pt+=chr((ord(c)-key-65)%26+65)\n",
    "        else:\n",
    "            pt+=chr((ord(c)-key-97)%26+97)\n",
    "    return pt\n",
    "ct=input(\"Enter the Character or Letter to be Encrypted: \")\n",
    "k=int(input(\"Enter the Key Value: \"))\n",
    "dec=CaesarDec(ct, k)\n",
    "print(\"The Encrypted Text of Caesar Cipher: \",dec)"
   ]
  },
  {
   "cell_type": "code",
   "execution_count": null,
   "id": "7fa27b57",
   "metadata": {},
   "outputs": [],
   "source": []
  },
  {
   "cell_type": "code",
   "execution_count": null,
   "id": "1c25aa28",
   "metadata": {},
   "outputs": [],
   "source": []
  }
 ],
 "metadata": {
  "kernelspec": {
   "display_name": "Python 3 (ipykernel)",
   "language": "python",
   "name": "python3"
  },
  "language_info": {
   "codemirror_mode": {
    "name": "ipython",
    "version": 3
   },
   "file_extension": ".py",
   "mimetype": "text/x-python",
   "name": "python",
   "nbconvert_exporter": "python",
   "pygments_lexer": "ipython3",
   "version": "3.11.5"
  }
 },
 "nbformat": 4,
 "nbformat_minor": 5
}
